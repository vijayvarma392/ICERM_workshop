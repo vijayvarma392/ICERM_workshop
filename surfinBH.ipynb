{
 "cells": [
  {
   "cell_type": "markdown",
   "metadata": {},
   "source": [
    "# SurfinBH (Surrogate Final BH) demo\n",
    "Description: Python package for evaluating numerical relativity surrogate remnant black hole models.   \n",
    "Webpage: https://github.com/vijayvarma392/surfinBH\n",
    "\n",
    "Notebook author: Vijay Varma, 2020. (Contact: vijay.varma392@gmail.com, [vijayvarma.com](https://vijayvarma.com/))"
   ]
  },
  {
   "cell_type": "code",
   "execution_count": 1,
   "metadata": {},
   "outputs": [],
   "source": [
    "import numpy as np\n",
    "import scipy\n",
    "import matplotlib.pyplot as P\n",
    "%matplotlib inline\n",
    "import warnings\n",
    "warnings.filterwarnings(\"ignore\")     # This is just for the demo, you may want to remove this\n",
    "\n",
    "import surfinBH"
   ]
  },
  {
   "cell_type": "markdown",
   "metadata": {},
   "source": [
    "## Installation\n",
    "#### PyPi\n",
    "`pip install surfinBH`\n",
    "#### Conda\n",
    "`conda install -c conda-forge surfinbh`\n",
    "#### Source\n",
    "`\n",
    "git clone https://github.com/vijayvarma392/surfinBH\n",
    "cd surfinBH\n",
    "git submodule init\n",
    "git submodule update\n",
    "python setup.py install\n",
    "`"
   ]
  },
  {
   "cell_type": "markdown",
   "metadata": {},
   "source": [
    "## Available models"
   ]
  },
  {
   "cell_type": "code",
   "execution_count": 2,
   "metadata": {},
   "outputs": [
    {
     "name": "stdout",
     "output_type": "stream",
     "text": [
      "dict_keys(['NRSur3dq8Remnant', 'surfinBH7dq2', 'NRSur7dq4Remnant'])\n"
     ]
    }
   ],
   "source": [
    "print(surfinBH.fits_collection.keys())"
   ]
  },
  {
   "cell_type": "code",
   "execution_count": 3,
   "metadata": {},
   "outputs": [
    {
     "name": "stdout",
     "output_type": "stream",
     "text": [
      "Fits for remnant mass, spin and kick veclocity for generically precessing BBH systems up to mass ratio 4.\n",
      "arxiv:1905.09300\n"
     ]
    }
   ],
   "source": [
    "fit_name = 'NRSur7dq4Remnant'\n",
    "print(surfinBH.fits_collection[fit_name].desc)\n",
    "print(surfinBH.fits_collection[fit_name].refs)"
   ]
  },
  {
   "cell_type": "code",
   "execution_count": 4,
   "metadata": {},
   "outputs": [
    {
     "name": "stdout",
     "output_type": "stream",
     "text": [
      "Fits for remnant mass, spin and kick veclocity for nonprecessing BBH systems. This model was called surfinBH3dq8 in the paper.\n",
      "arxiv:1809.09125\n"
     ]
    }
   ],
   "source": [
    "fit_name = 'NRSur3dq8Remnant'\n",
    "print(surfinBH.fits_collection[fit_name].desc)\n",
    "print(surfinBH.fits_collection[fit_name].refs)"
   ]
  },
  {
   "cell_type": "markdown",
   "metadata": {},
   "source": [
    "## Load your favorite model (this only needs to be done once at the start of a script)"
   ]
  },
  {
   "cell_type": "code",
   "execution_count": 5,
   "metadata": {},
   "outputs": [
    {
     "name": "stdout",
     "output_type": "stream",
     "text": [
      "Loaded NRSur7dq4Remnant fit.\n"
     ]
    }
   ],
   "source": [
    "fit = surfinBH.LoadFits('NRSur7dq4Remnant')"
   ]
  },
  {
   "cell_type": "markdown",
   "metadata": {},
   "source": [
    "## Read the documentation"
   ]
  },
  {
   "cell_type": "code",
   "execution_count": 6,
   "metadata": {
    "scrolled": true
   },
   "outputs": [
    {
     "name": "stdout",
     "output_type": "stream",
     "text": [
      "Help on Fit7dq4 in module surfinBH._fit_evaluators.fit_7dq4 object:\n",
      "\n",
      "class Fit7dq4(surfinBH.surfinBH.SurFinBH)\n",
      " |  Fit7dq4(name, load_nrsur=False)\n",
      " |  \n",
      " |  A class for the NRSur7dq4Remnant model presented in Varma et al.,\n",
      " |  arxiv:1905.09300, hereafter referred to as THE PAPER.\n",
      " |  \n",
      " |  This model predicts the final mass mf, final spin vector\n",
      " |  chif and final kick velocity vector vf, for the remnants of precessing\n",
      " |  binary black hole systems.  The fits are done using Gaussian Process\n",
      " |  Regression (GPR) and also provide an error estimate along with the fit\n",
      " |  value.\n",
      " |  \n",
      " |  This model has been trained in the parameter space:\n",
      " |      q <= 4, |chiA| <= 0.8, |chiB| <= 0.8\n",
      " |  \n",
      " |  However, it extrapolates reasonably to:\n",
      " |      q <= 6, |chiA| <= 1, |chiB| <= 1\n",
      " |  \n",
      " |  =========================================================================\n",
      " |  Usage:\n",
      " |  \n",
      " |  import surfinBH\n",
      " |  \n",
      " |  # Load the fit\n",
      " |  fit = surfinBH.LoadFits('NRSur7dq4Remnant')\n",
      " |  \n",
      " |  We provide the following call methods:\n",
      " |      # remnant mass and 1-sigma error estimate\n",
      " |      mf, mf_err = fit.mf(q, chiA, chiB, **kwargs)\n",
      " |  \n",
      " |      # remnant spin and 1-sigma error estimate\n",
      " |      chif, chif_err = fit.chif(q, chiA, chiB, **kwargs)\n",
      " |  \n",
      " |      # remnant recoil kick and 1-sigma error estimate (units of c)\n",
      " |      vf, vf_err = fit.vf(q, chiA, chiB, **kwargs)\n",
      " |  \n",
      " |      # All of these together\n",
      " |      mf, chif, vf, mf_err, chif_err, vf_err\n",
      " |          = fit.all(q, chiA, chiB, **kwargs)\n",
      " |  \n",
      " |  The arguments for each of these call methods are as follows:\n",
      " |  Arguments:\n",
      " |      q:      Mass ratio (q = mA/mB >= 1)\n",
      " |  \n",
      " |      chiA:  Dimensionless spin vector of the heavier black hole at\n",
      " |              reference epoch.\n",
      " |      chiB:  Dimensionless spin vector of the lighter black hole at\n",
      " |              reference epoch.\n",
      " |  \n",
      " |              This follows the same convention as LAL, where the spin\n",
      " |              components are defined as:\n",
      " |              \\chi_z = \\chi \\cdot \\hat{L}, where L is the orbital angular\n",
      " |                  momentum vector at the epoch.\n",
      " |              \\chi_x = \\chi \\cdot \\hat{n}, where n = body2 -> body1 is the\n",
      " |                  separation vector at the epoch. body1 is the heavier body.\n",
      " |              \\chi_y = \\chi \\cdot \\hat{L \\cross n}.\n",
      " |              These spin components are frame-independent as they are defined\n",
      " |              using vector inner products. This is equivalent to specifying\n",
      " |              the spins in the coorbital frame at the reference epoch. See\n",
      " |              THE PAPER for a definition of the coorbital frame.\n",
      " |  \n",
      " |  \n",
      " |  Optional arguments:\n",
      " |  \n",
      " |      omega0: Orbital frequency used to set the reference epoch.\n",
      " |              Default: None.\n",
      " |  \n",
      " |              If omega0 is None, the reference epoch is assumed to be at\n",
      " |              t=-100 M from the peak of the waveform, see THE PAPER for\n",
      " |              definition of the peak.\n",
      " |  \n",
      " |              If 'omega0' is given, the reference epoch is take to be the\n",
      " |              time at which the orbital frequency in the coprecessing frame\n",
      " |              equals omega0. omega0 should be in dimensionless units of\n",
      " |              rad/M, where M is the total mass.\n",
      " |  \n",
      " |              See THE PAPER for how the orbital frequency is\n",
      " |              computed as well as the definition of the coprecessing frame.\n",
      " |  \n",
      " |      allow_extrap:\n",
      " |          If False, raises a warning when q > 4.1 or |chiA|,|chiB| > 0.81,\n",
      " |              and raises an error when q > 6.1 or |chiA|,|chiB| > 1.\n",
      " |          If True, allows extrapolation to any q and |chiA|,|chiB| <= 1.\n",
      " |              Use at your own risk.\n",
      " |          Default: False.\n",
      " |  \n",
      " |  Optional PN evolution arguments:\n",
      " |  \n",
      " |      If the omega0 option is used, the spins need to be evolved from omega0\n",
      " |      until t=-100M, where the fits will be evaluated. For the late inspiral\n",
      " |      part, we use the internal spin evolution of NRSur7dq4 (also described\n",
      " |      in THE PAPER), which is very accurate. However, this surrogate is not\n",
      " |      long enough for small values of omega0 as it only has data starting at\n",
      " |      t=-4300M. Therefore, whenever the input omega0 is smaller than\n",
      " |      omega_switch_IG (defined below), we use PN evolution to go from omega0\n",
      " |      to about t=-4300M, beyond which we use NRSur7dq4 for spin evolution.\n",
      " |  \n",
      " |      PN_approximant:\n",
      " |          Approximant used to do the PN spin evolution. Choose from\n",
      " |          'SpinTaylorT4', 'SpinTaylorT1' or 'SpinTaylorT5'.\n",
      " |          Default: 'SpinTaylorT4'.\n",
      " |  \n",
      " |      PN_dt:\n",
      " |          Dimensionless time step size in units of M, used for the PN\n",
      " |          evolution. You may need to increase this if omega0 is very low.\n",
      " |          Default: 0.1\n",
      " |  \n",
      " |      PN_spin_order:\n",
      " |          Twice the PN order of spin effects. E.g., use 7 for 3.5PN.\n",
      " |          Default: 7\n",
      " |  \n",
      " |      PN_phase_order:\n",
      " |          Twice the PN order in phase. E.g., use 7 for 3.5PN.\n",
      " |          Default: 7\n",
      " |  \n",
      " |      t_sur_switch:\n",
      " |          The dimensionless time (from the peak) at which we switch from PN\n",
      " |          to the surrogate. Should be something larger than -4300.\n",
      " |          Default: -4000.\n",
      " |  \n",
      " |      omega_switch_IG:\n",
      " |          Initial guess for dimensionless orbital frequency, using which the\n",
      " |          switch will be made from PN to NRSur7dq4. This should be large\n",
      " |          enough to work for generic parts of the surrogate parameter space.\n",
      " |          You may need to increase this if the NRSur7dq4 model raises an\n",
      " |          exception like: \"Got omega_ref=0.03 < 0.031=omega_0, too small!\"\n",
      " |          Default: 0.03\n",
      " |  \n",
      " |          How t_sur_switch and omega_switch_IG work: The PN data is first\n",
      " |          generated starting at omega0, then the PN spins at omega_switch_IG\n",
      " |          are used to generate the NRSur7dq4 dynamics. NRSur7dq4 integrate\n",
      " |          the dynamics both forwards and backwards, so it will have omega and\n",
      " |          spins as a time series starting from -4300M. This is used to pick\n",
      " |          the omega0_sur and spins at t_sur_switch. Then the surrogate\n",
      " |          is reevaluated using omega0_sur and spins at t_sur_switch, thus\n",
      " |          ensuring that the switch always happens at t_sur_switch, even if\n",
      " |          omega_switch_IG corresponds to a later time.\n",
      " |  \n",
      " |  Inertial frame for returned values:\n",
      " |  \n",
      " |      The returned chif/vf are in the LAL inertial frame defined as follows:\n",
      " |          The +ve z-axis is along the orbital angular momentum at the\n",
      " |          reference epoch. The separation vector from the lighter BH to the\n",
      " |          heavier BH at the reference epoch is along the +ve x-axis. The\n",
      " |          y-axis completes the right-handed triad.\n",
      " |  \n",
      " |          Note that the default reference epoch corresponds to t=-100M, but\n",
      " |          if omega0 is given the reference epoch is taken to be the time at\n",
      " |          which the orbital frequency in the coprecessing frame is equal to\n",
      " |          omega0. This agrees with the LAL convention. See LIGO DCC document\n",
      " |          T1800226 for the LAL frame diagram.\n",
      " |  \n",
      " |  Method resolution order:\n",
      " |      Fit7dq4\n",
      " |      surfinBH.surfinBH.SurFinBH\n",
      " |      builtins.object\n",
      " |  \n",
      " |  Methods defined here:\n",
      " |  \n",
      " |  __init__(self, name, load_nrsur=False)\n",
      " |      name: Name of the fit excluding the surfinBH prefix. Ex: 7dq2.\n",
      " |      soft_param_lims: param limits beyond which to raise a warning.\n",
      " |      hard_param_lims: param limits beyond which to raise an error.\n",
      " |      aligned_spin_only: raise an error if given precessing spins.\n",
      " |      See _fit_evaluators.fit_7dq2.py for an example.\n",
      " |  \n",
      " |  ----------------------------------------------------------------------\n",
      " |  Methods inherited from surfinBH.surfinBH.SurFinBH:\n",
      " |  \n",
      " |  all(self, *args, **kwargs)\n",
      " |      Evaluates fit and 1-sigma error estimate for remnant mass, spin\n",
      " |      and kick velocity.\n",
      " |      Returns:\n",
      " |          mf, chif, vf, mf_err_est, chif_err_est, vf_err_est\n",
      " |      \n",
      " |      chif, vf, chif_err_est and vf_err_est are arrays of size 3.\n",
      " |  \n",
      " |  chif(self, *args, **kwargs)\n",
      " |      Evaluates fit and 1-sigma error estimate for remnant spin.\n",
      " |      Returns:\n",
      " |          chif, chif_err_est\n",
      " |      \n",
      " |      chif and chif_err_est are arrays of size 3.\n",
      " |  \n",
      " |  mf(self, *args, **kwargs)\n",
      " |      Evaluates fit and 1-sigma error estimate for remnant mass.\n",
      " |      Returns:\n",
      " |          mf, mf_err_est\n",
      " |  \n",
      " |  vf(self, *args, **kwargs)\n",
      " |      Evaluates fit and 1-sigma error estimate for remnant kick velocity.\n",
      " |      Returns:\n",
      " |          vf, vf_err_est\n",
      " |      \n",
      " |      vf and vf_err_est are arrays of size 3.\n",
      " |  \n",
      " |  ----------------------------------------------------------------------\n",
      " |  Data descriptors inherited from surfinBH.surfinBH.SurFinBH:\n",
      " |  \n",
      " |  __dict__\n",
      " |      dictionary for instance variables (if defined)\n",
      " |  \n",
      " |  __weakref__\n",
      " |      list of weak references to the object (if defined)\n",
      "\n"
     ]
    }
   ],
   "source": [
    "help(fit)"
   ]
  },
  {
   "cell_type": "markdown",
   "metadata": {},
   "source": [
    "## Evaluate the fits (using spins at t=-100 M)"
   ]
  },
  {
   "cell_type": "code",
   "execution_count": 7,
   "metadata": {},
   "outputs": [
    {
     "name": "stdout",
     "output_type": "stream",
     "text": [
      "mf: 0.9656720610451307 mf_err: 0.00010895992605092175\n",
      "chif: [0.22590287 0.05296894 0.66365497] chif_err: [0.00058071 0.00057176 0.0004123 ]\n",
      "vf: [0.00143326 0.00012996 0.00275611] vf_err: [2.83343048e-05 2.66765917e-05 7.22398079e-05]\n"
     ]
    }
   ],
   "source": [
    "# Note: By default, the reference epoch is taken to be \n",
    "# at t=-100M from the waveform amplitude peak. The \n",
    "# returned chif and vf are in coorbital frame at t=-100M.\n",
    "\n",
    "# Mass ratio and component spins at reference epoch\n",
    "q = 3.2\n",
    "chiA = [0.5, 0.05, 0.3]\n",
    "chiB = [-0.5, -0.05, 0.1]\n",
    "\n",
    "# remnant mass and 1-sigma error estimate\n",
    "mf, mf_err = fit.mf(q, chiA, chiB)\n",
    "print(\"mf:\", mf, \"mf_err:\", mf_err)\n",
    "\n",
    "# remnant spin and 1-sigma error estimate\n",
    "chif, chif_err = fit.chif(q, chiA, chiB)\n",
    "print(\"chif:\", chif, \"chif_err:\", chif_err)\n",
    "\n",
    "# remnant recoil kick and 1-sigma error estimate (units of c)\n",
    "vf, vf_err = fit.vf(q, chiA, chiB)\n",
    "print(\"vf:\", vf, \"vf_err:\", vf_err)\n",
    "\n",
    "# All of these together\n",
    "mf, chif, vf, mf_err, chif_err, vf_err = fit.all(q, chiA, chiB)"
   ]
  },
  {
   "cell_type": "markdown",
   "metadata": {},
   "source": [
    "# Evaluate the fits using spins at earlier frequencies"
   ]
  },
  {
   "cell_type": "code",
   "execution_count": 8,
   "metadata": {},
   "outputs": [
    {
     "name": "stdout",
     "output_type": "stream",
     "text": [
      "setting __package__ to gwsurrogate.new so relative imports work\n",
      "__name__ = gwsurrogate.new.spline_evaluation\n",
      "__package__= gwsurrogate.new\n",
      "setting __package__ to gwsurrogate.new so relative imports work\n",
      "setting __package__ to gwsurrogate.new so relative imports work\n",
      "Loaded NRSur7dq4 model\n",
      "mf: 0.9653928100919663 mf_err: 8.59577095288164e-05\n",
      "chif: [0.12747008 0.00808293 0.70329037] chif_err: [0.00051558 0.00054031 0.0004079 ]\n",
      "vf: [-2.52911402e-04 -1.63829495e-05 -1.87216785e-03] vf_err: [2.50307556e-05 2.18990752e-05 4.76019790e-05]\n"
     ]
    }
   ],
   "source": [
    "# Note: If omega0 is given, the reference epoch is taken to be the \n",
    "# time at which the orbital frequency in the coprecessing frame is\n",
    "# equal to omega0. The returned chif and vf are in the LAL interial\n",
    "# frame as described in the documentation.\n",
    "\n",
    "# Mass ratio and component spins at reference epoch\n",
    "q = 3.2\n",
    "chiA = [0.5, 0.05, 0.3]\n",
    "chiB = [-0.5, -0.05, 0.1]\n",
    "\n",
    "#  Dimensionless orbital frequency at reference epoch (in units of rad/M)\n",
    "omega0 = 7e-3\n",
    "  \n",
    "# remnant mass and 1-sigma error estimate\n",
    "mf, mf_err = fit.mf(q, chiA, chiB, omega0=omega0)\n",
    "print(\"mf:\", mf, \"mf_err:\", mf_err)\n",
    " \n",
    "# remnant spin and 1-sigma error estimate\n",
    "chif, chif_err = fit.chif(q, chiA, chiB, omega0=omega0)\n",
    "print(\"chif:\", chif, \"chif_err:\", chif_err)\n",
    " \n",
    "# remnant recoil kick and 1-sigma error estimate\n",
    "vf, vf_err = fit.vf(q, chiA, chiB, omega0=omega0)\n",
    "print(\"vf:\", vf, \"vf_err:\", vf_err)\n",
    " \n",
    "# All of these together\n",
    "mf, chif, vf, mf_err, chif_err, vf_err = fit.all(q, chiA, chiB, omega0=omega0)"
   ]
  },
  {
   "cell_type": "markdown",
   "metadata": {},
   "source": [
    "## Exercise 1: How much energy was radiated in GW150914?"
   ]
  },
  {
   "cell_type": "code",
   "execution_count": 9,
   "metadata": {},
   "outputs": [
    {
     "name": "stdout",
     "output_type": "stream",
     "text": [
      "Initial mass = 65.00 MSun, final mass = 61.88 MSun, energy radiated = 3.12 MSun\n"
     ]
    }
   ],
   "source": [
    "M = 65\n",
    "q = 1.22\n",
    "chiA = [0, 0, 0.33]\n",
    "chiB = [0, 0, -0.44]\n",
    "mf, mf_err = fit.mf(q, chiA, chiB)\n",
    "print (\"Initial mass = %.2f MSun, final mass = %.2f MSun, energy radiated = %.2f MSun\"%(M, mf*M, (1-mf)*M))"
   ]
  },
  {
   "cell_type": "markdown",
   "metadata": {},
   "source": [
    "## Exercise 2: What is a typical value for remnant spin magnitude?"
   ]
  },
  {
   "cell_type": "code",
   "execution_count": 10,
   "metadata": {},
   "outputs": [
    {
     "name": "stdout",
     "output_type": "stream",
     "text": [
      "chifmag: 0.686500375363643\n"
     ]
    }
   ],
   "source": [
    "# Remanant spin for and equal-mass nonspinning binary\n",
    "q = 1\n",
    "chiA = [0,0,0]\n",
    "chiB = [0,0,0]\n",
    "chif, chif_err = fit.chif(q, chiA, chiB)\n",
    "print(\"chifmag:\", np.linalg.norm(chif))"
   ]
  },
  {
   "cell_type": "code",
   "execution_count": 11,
   "metadata": {
    "scrolled": false
   },
   "outputs": [
    {
     "data": {
      "text/plain": [
       "(array([ 1.,  0.,  2.,  3.,  3.,  3.,  7.,  8., 15., 30., 24., 38., 31.,\n",
       "        33., 32., 24., 20., 14.,  8.,  4.]),\n",
       " array([0.159763  , 0.19625473, 0.23274645, 0.26923818, 0.30572991,\n",
       "        0.34222164, 0.37871337, 0.4152051 , 0.45169683, 0.48818856,\n",
       "        0.52468029, 0.56117202, 0.59766375, 0.63415548, 0.6706472 ,\n",
       "        0.70713893, 0.74363066, 0.78012239, 0.81661412, 0.85310585,\n",
       "        0.88959758]),\n",
       " <a list of 20 Patch objects>)"
      ]
     },
     "execution_count": 11,
     "metadata": {},
     "output_type": "execute_result"
    },
    {
     "data": {
      "image/png": "[encoded data removed]",
      "text/plain": [
       "<Figure size 432x288 with 1 Axes>"
      ]
     },
     "metadata": {
      "needs_background": "light"
     },
     "output_type": "display_data"
    }
   ],
   "source": [
    "# Remnant spins for random binaries\n",
    "chifmag_vec = []\n",
    "for i in range(300):\n",
    "    q = np.random.uniform(1, 4)            # kicks are maximized for equal-mass, maximally spinning systems\n",
    "    chiAmag = np.random.uniform(0, 1)\n",
    "    chiBmag = np.random.uniform(0, 1)\n",
    "    thetaA = np.arccos(np.random.uniform(-1, 1))\n",
    "    thetaB = np.arccos(np.random.uniform(-1, 1))\n",
    "    phiA = np.random.uniform(0, 2*np.pi)\n",
    "    phiB = np.random.uniform(0, 2*np.pi)\n",
    "    chiA = chiAmag*np.array([np.sin(thetaA)*np.cos(phiA), np.sin(thetaA)*np.sin(phiA), np.cos(thetaA)])\n",
    "    chiB = chiBmag*np.array([np.sin(thetaB)*np.cos(phiB), np.sin(thetaB)*np.sin(phiB), np.cos(thetaB)])    \n",
    "    chif, chif_err = fit.chif(q, chiA, chiB)\n",
    "    chifmag = np.linalg.norm(chif)\n",
    "    chifmag_vec.append(chifmag)\n",
    "P.hist(chifmag_vec, bins=20)"
   ]
  },
  {
   "cell_type": "markdown",
   "metadata": {},
   "source": [
    "## Exercise 3: What mass ratio do we need for zero remnant spin?"
   ]
  },
  {
   "cell_type": "code",
   "execution_count": 12,
   "metadata": {},
   "outputs": [
    {
     "data": {
      "text/plain": [
       "<matplotlib.legend.Legend at 0x7ff5da47a430>"
      ]
     },
     "execution_count": 12,
     "metadata": {},
     "output_type": "execute_result"
    },
    {
     "data": {
      "image/png": "[encoded data removed]",
      "text/plain": [
       "<Figure size 432x288 with 1 Axes>"
      ]
     },
     "metadata": {
      "needs_background": "light"
     },
     "output_type": "display_data"
    }
   ],
   "source": [
    "chiA = [0,0,-1]\n",
    "chiB = [0,0,-1]\n",
    "q_vec = np.linspace(1, 4, 30)\n",
    "chif_vec = []\n",
    "chif_err_vec = []\n",
    "for q in q_vec:\n",
    "    chif, chif_err = fit.chif(q, chiA, chiB)\n",
    "    chif_vec.append(chif[2])\n",
    "    chif_err_vec.append(chif_err[2])\n",
    "chif_vec = np.array(chif_vec)\n",
    "chif_err_vec = np.array(chif_err_vec)\n",
    "    \n",
    "P.plot(q_vec, chif_vec, label='$\\chi_{1z}=%.1f$  $\\chi_{2z}=%.1f$'%(chiA[2], chiB[2]), color='r')\n",
    "P.fill_between(q_vec, chif_vec - 5*chif_err_vec, chif_vec + 5*chif_err_vec, alpha=0.2, \n",
    "    color='g', label=\"$5 \\\\sigma$ errors\")\n",
    "P.hlines(0, q_vec[0], q_vec[-1], linestyle='dashed')\n",
    "P.ylabel('$\\chi_f$', fontsize=20)\n",
    "P.xlabel('$q$', fontsize=20)\n",
    "P.legend(loc='best', fontsize=12)"
   ]
  },
  {
   "cell_type": "markdown",
   "metadata": {},
   "source": [
    "## Exercise 4: What is the highest possible kick?"
   ]
  },
  {
   "cell_type": "code",
   "execution_count": 13,
   "metadata": {},
   "outputs": [
    {
     "name": "stdout",
     "output_type": "stream",
     "text": [
      "Maximum kick found = 0.013 c = 4017.618 km/s\n",
      "For q=1.00 chiA=[0.080, 0.362, 0.929] chiB=[0.017, -0.584, 0.811]\n"
     ]
    }
   ],
   "source": [
    "max_kick = 0\n",
    "params = None\n",
    "for i in range(300):\n",
    "    q = 1            # kicks are maximized for equal-mass, maximally spinning systems\n",
    "    chimag = 1\n",
    "    thetaA = np.arccos(np.random.uniform(-1, 1))\n",
    "    thetaB = np.arccos(np.random.uniform(-1, 1))\n",
    "    phiA = np.random.uniform(0, 2*np.pi)\n",
    "    phiB = np.random.uniform(0, 2*np.pi)\n",
    "    chiA = chimag*np.array([np.sin(thetaA)*np.cos(phiA), np.sin(thetaA)*np.sin(phiA), np.cos(thetaA)])\n",
    "    chiB = chimag*np.array([np.sin(thetaB)*np.cos(phiB), np.sin(thetaB)*np.sin(phiB), np.cos(thetaB)])    \n",
    "    vf, vf_err = fit.vf(q, chiA, chiB)\n",
    "    vfmag = np.linalg.norm(vf)\n",
    "    if vfmag > max_kick:\n",
    "        max_kick = vfmag\n",
    "        params = [q, chiA, chiB]\n",
    "        \n",
    "print (\"Maximum kick found = %.3f c = %.3f km/s\"%(max_kick, max_kick*scipy.constants.c/1e3))\n",
    "print (\"For q=%.2f chiA=[%.3f, %.3f, %.3f] chiB=[%.3f, %.3f, %.3f]\"%(params[0], \n",
    "    params[1][0], params[1][1], params[1][2], params[2][0], params[2][1], params[2][2]))"
   ]
  },
  {
   "cell_type": "code",
   "execution_count": null,
   "metadata": {},
   "outputs": [],
   "source": []
  }
 ],
 "metadata": {
  "kernelspec": {
   "display_name": "Python 3",
   "language": "python",
   "name": "python3"
  },
  "language_info": {
   "codemirror_mode": {
    "name": "ipython",
    "version": 3
   },
   "file_extension": ".py",
   "mimetype": "text/x-python",
   "name": "python",
   "nbconvert_exporter": "python",
   "pygments_lexer": "ipython3",
   "version": "3.8.3"
  }
 },
 "nbformat": 4,
 "nbformat_minor": 2
}
